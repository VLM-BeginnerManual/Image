{
 "cells": [
  {
   "cell_type": "markdown",
   "metadata": {},
   "source": [
    "https://www.cnblogs.com/chengnan113/p/17506037.html"
   ]
  },
  {
   "cell_type": "code",
   "execution_count": null,
   "metadata": {},
   "outputs": [],
   "source": [
    "from modelscope.models import Model\n",
    "from modelscope.pipelines import pipeline\n",
    "\n",
    "model_id = 'xingzi/llava_visual-question-answering'\n",
    "inference = pipeline('llava-task', model=model_id, model_revision='v1.1.0')\n",
    "\n",
    "image_file = \"https://llava-vl.github.io/static/images/view.jpg\"\n",
    "query = \"What are the things I should be cautious about when I visit here?\"\n",
    "conv_mode = None\n",
    "inputs = {'image_file': image_file, 'query': query}\n",
    "\n",
    "output = inference(inputs, conv_mode=conv_mode)\n",
    "\n",
    "print(output)\n"
   ]
  }
 ],
 "metadata": {
  "language_info": {
   "name": "python"
  }
 },
 "nbformat": 4,
 "nbformat_minor": 2
}
