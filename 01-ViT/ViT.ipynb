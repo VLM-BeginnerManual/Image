{
 "cells": [
  {
   "cell_type": "code",
   "execution_count": 1,
   "metadata": {},
   "outputs": [],
   "source": [
    "import torch\n",
    "import torch.nn as nn\n",
    "import torch.nn.functional as F\n",
    "from einops import rearrange"
   ]
  },
  {
   "cell_type": "code",
   "execution_count": 3,
   "metadata": {},
   "outputs": [
    {
     "name": "stderr",
     "output_type": "stream",
     "text": [
      "f:\\Anaconda-env\\LLMpython39\\lib\\site-packages\\torch\\nn\\modules\\transformer.py:306: UserWarning: enable_nested_tensor is True, but self.use_nested_tensor is False because encoder_layer.self_attn.batch_first was not True(use batch_first for better inference performance)\n",
      "  warnings.warn(f\"enable_nested_tensor is True, but self.use_nested_tensor is False because {why_not_sparsity_fast_path}\")\n"
     ]
    },
    {
     "name": "stdout",
     "output_type": "stream",
     "text": [
      "rearrange torch.Size([1, 196, 512])\n",
      "torch.Size([1, 10])\n"
     ]
    }
   ],
   "source": [
    "class ViT(nn.Module):\n",
    "    def __init__(self, image_size, patch_size, num_classes, dim):\n",
    "        super(ViT, self).__init__()\n",
    "        num_patches = (image_size // patch_size) ** 2\n",
    "        patch_dim = 3 * patch_size ** 2\n",
    "\n",
    "        self.patch_embedding = nn.Conv2d(3, dim, kernel_size=patch_size, stride=patch_size)\n",
    "        self.positional_embedding = nn.Parameter(torch.randn(1, num_patches + 1, dim))\n",
    "        self.transformer = nn.TransformerEncoder(nn.TransformerEncoderLayer(d_model=dim, nhead=8), num_layers=6)\n",
    "        self.classification_head = nn.Linear(dim, num_classes)\n",
    "\n",
    "    def forward(self, x):\n",
    "        x = self.patch_embedding(x)\n",
    "        x = rearrange(x, 'b c h w -> b (h w) c')\n",
    "        print('rearrange', x.shape)\n",
    "        x = torch.cat((self.positional_embedding, x), dim=1)\n",
    "        x = self.transformer(x)\n",
    "        x = x[:, 0, :]  # take only the first token\n",
    "        x = self.classification_head(x)\n",
    "        return x\n",
    "\n",
    "# Example usage\n",
    "image_size = 224\n",
    "patch_size = 16\n",
    "num_classes = 10\n",
    "dim = 512\n",
    "\n",
    "model = ViT(image_size, patch_size, num_classes, dim)\n",
    "input = torch.randn(1, 3, image_size, image_size)\n",
    "output = model(input)\n",
    "print(output.shape)"
   ]
  },
  {
   "cell_type": "code",
   "execution_count": null,
   "metadata": {},
   "outputs": [],
   "source": [
    "# https://blog.csdn.net/MengYa_Dream/article/details/126579405\n",
    "\n",
    "import torch\n",
    "from vit_pytorch import ViT\n",
    " \n",
    "v = ViT(\n",
    "    image_size = 256,     \n",
    "    patch_size = 32,      \n",
    "    num_classes = 1000,\n",
    "    dim = 1024,\n",
    "    depth = 6,\n",
    "    heads = 16,\n",
    "    mlp_dim = 2048,\n",
    "    dropout = 0.1,\n",
    "    emb_dropout = 0.1\n",
    ")\n",
    " \n",
    "img = torch.randn(1, 3, 256, 256)\n",
    " \n",
    "preds = v(img) # (1, 1000)"
   ]
  }
 ],
 "metadata": {
  "kernelspec": {
   "display_name": "LLMpython39",
   "language": "python",
   "name": "python3"
  },
  "language_info": {
   "codemirror_mode": {
    "name": "ipython",
    "version": 3
   },
   "file_extension": ".py",
   "mimetype": "text/x-python",
   "name": "python",
   "nbconvert_exporter": "python",
   "pygments_lexer": "ipython3",
   "version": "3.9.18"
  }
 },
 "nbformat": 4,
 "nbformat_minor": 2
}
